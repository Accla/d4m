{
 "cells": [
  {
   "cell_type": "markdown",
   "metadata": {},
   "source": [
    "# Intro to D4M Associative Arrays"
   ]
  },
  {
   "cell_type": "markdown",
   "metadata": {},
   "source": [
    "Didplay Matlab D4M help pages."
   ]
  },
  {
   "cell_type": "code",
   "execution_count": 3,
   "metadata": {},
   "outputs": [
    {
     "name": "stdout",
     "output_type": "stream",
     "text": [
      "'D4M' is a script from the file /Users/Lauren/Documents/SoftwareAndPackages/d4m/matlab_src/D4M.m\n",
      "\n",
      "\n",
      "D4M: DYNAMIC DISTRIBUTED DIMENSIONAL DATA MODEL\n",
      "\n",
      " \n",
      " D4M is a library of functions that allow row, column and value triples of strings and/or numbers\n",
      " to be formed into associative arrays and manipulated using linear algebra.  These triples\n",
      " can be inserted into and queried from database tables.\n",
      " The functions summarized below consist of User, Utility and Internal functions.\n",
      " User functions are intended to be used by users.  Utility functions are less commonly used by users.\n",
      " Internal functions are not intended to be used by users.\n",
      "\n",
      "\n",
      "QUICK INSTALL\n",
      "\n",
      "  (1) Unpack d4m software.\n",
      "  (2) Add the d4m_api/matlab_src to your path, e.g.\n",
      "\t addpath /home/kepner/d4m_api/matlab_src\n",
      "  (3) Start matlab and type \"help D4M\" to see this page\n",
      "  (4) Type \"help function_name\" to see more detailed documentation\n",
      "  (5) Look at the material in d4m_api/docs and d4m_api/examples\n",
      "  (6) If you are going to be using D4M with a database type\n",
      "        DBinit\n",
      "  (7) Put the addpath and DBinit commands in your startup.m file which is typically found in:\n",
      "       /home/kepner/matlab/startup.m\n",
      "\n",
      "ASSOCIATIVE ARRAY AND DATABASE TABLE\n",
      "\n",
      "  User Functions:\n",
      "    (),subsref: Selects rows and columns from an associative array or database table.\n",
      "    StartsWith: Converts a list of strings into a list of ranges that can be used in a query.\n",
      "    nnz: Returns number of non-zeros in an associative array or database table.\n",
      "\n",
      "  Utility Functions:\n",
      "    IsClass: Tests if an object is a specific classname.\n",
      "    randRow: Randomly selects rows from an associative array or database table.\n",
      "\n",
      "    runTESTdir: Runs every *TEST.m script in a directory.\n",
      "\n",
      "    columnNeighbors: DEPRECATED. Using a starting set of column keys find graph neighbors to a specified depth. \n",
      "\n",
      "  Internal Functions (not user functions):\n",
      "\n",
      "\n",
      "ASSOCIATIVE ARRAY\n",
      "\n",
      "  User Functions:\n",
      "    Assoc: Constructs an associative array from row, column, and value triples.\n",
      "    Row: Returns row keys of an associative array.\n",
      "    putRow: Replaces the row keys in an associative array; does no consistency checking.\n",
      "    Col: Returns column keys of an associative array.\n",
      "    putCol: Replaces the column keys in an associative array; does no consistency checking.\n",
      "    Val: Returns the unique column values of an associative array in sorted order.\n",
      "    putVal: Replaces the string values in an associative array; does no consistency checking.\n",
      "    Adj: Returns associative array adjacency matrix that connect row, columns, and values.\n",
      "    putAdj: Replaces the adjacency matrix in an associative array; does no consistency checking.\n",
      "    reAssoc: Rebuilds an associative array so that all keys are in their correct sorted order.\n",
      "\n",
      "    size: Returns the dimensions of an associative array.\n",
      "    numel: Returns the number of row times the number of columns in an associative array.\n",
      "    isempty: Checks if an associative array is empty.\n",
      "    find: Converts an associative array in to triples.\n",
      "    sum: Performs sum along the dimension of an associative array with numeric values.\n",
      "\n",
      "    disp: Display the internal structure of an associative array.\n",
      "    display: Display an associative array as a list of triples.\n",
      "    displayFull: Display an associative array as a formatted table.\n",
      "    plot: Creates a plot of an associative array vector of values.\n",
      "    spy: Creates a 2D plot of non-empty entries in an associative array; clicking on a dot shows its value.\n",
      "\n",
      "    double: Converts associative array adjacency matrix to a double.\n",
      "    logical: Converts associative array adjacency matrix to a logical of ones and zeros.\n",
      "    dblLogi: Converts associative array adjacency matrix to a double of ones and zeros.\n",
      "    Abs0: Converts associative array adjacency matrix to a double of ones and zeros. (same as dblLogi)\n",
      "    abs: Absolute value of matrix of the adjacency matrix of an associative array.\n",
      "    num2str: Converts numeric values in an associative array to string values.\n",
      "    str2num: Converts string values in an associative array to numeric values.\n",
      "    NoDiag: Remove diagonal (i.e., A(k,k) = 0) from associative array or matrix.\n",
      "    diag: DEPRECATED, Returns diagonal of an associative array.\n",
      "\n",
      "    *,mtimes: Performs matrix multiply of two associative arrays.\n",
      "    mtimesCustom: Matrix multiply of two associative arrays over an arbitrary ring.\n",
      "    sqIn: Computes A.' * A efficiently.\n",
      "    sqOut: Computes A * A.' efficiently.\n",
      "    +,plus: Add two associative arrays.\n",
      "    -,minus: Subtracts one associative array from another.\n",
      "    .*,times: Multiplies the numeric values of one associative array by the values of another.\n",
      "    ./,rdvide: Divides the numeric values of one associative array by the values of another.\n",
      "    .',transpose: Performs a matrix transpose on an associative array.\n",
      "    &,and: Performs logical and of two associative arrays; output value is the min of the two input values.\n",
      "    |,or: Performs logical or of two associative arrays; output value is the min of the two input values.\n",
      "    xor: Performs logical xor of two associative arrays; output value is the min of the two input values.\n",
      "    ==,eq: Compares the values of an associative array with a scalar.\n",
      "    ~=,ne: Compares the values of an associative array with a scalar.\n",
      "    >,gt: Compares the values of an associative array with a scalar.\n",
      "    >=,ge: Compares the values of an associative array with a scalar.\n",
      "    <,lt: Compares the values of an associative array with a scalar.\n",
      "    <=,le: Compares the values of an associative array with a scalar.\n",
      "    strcmp: Compares the values of an associative array with a scalar.\n",
      "    max: DEPRECATED. Compares an associative array with a scalar along a specified dimension.\n",
      "    min: DEPRECATED. Compares an associative array with a scalar along a specified dimension.\n",
      "\n",
      "    TopColPerRow: Picks the top valued column for each row.\n",
      "    TopRowPerCol: Picks the top valued rows for each column.\n",
      "    CatKeyMul: Perform matrix multiply and concatenate colliding row/col keys into the value.\n",
      "    CatValMul: Perform matrix multiply and concatenate colliding values.\n",
      "\n",
      "    col2type: Splits column keys of associative array and stores first part as column key and second part as value; inverse of val2col. \n",
      "    val2col: Append associative array values to column keys; inverse of col2type. \n",
      "    col2val: Splits column keys of associative array and stores second part as column key and first part as value. \n",
      "\n",
      "  Utility Functions:\n",
      "    putAssoc: Constructs all elements of an associative array from its components.\n",
      "    noCol: Eliminates the column keys of an associative array.\n",
      "    noRow: Eliminates the row keys of an associative array.\n",
      "    noVal: Eliminates the values strings of an associative array.\n",
      "    NewSep: Replaces string separator in all string lists..\n",
      "    Key: Returns concatenated row and column keys of an associative array.\n",
      "    conv: Convolves associative array vector with window vector (using 'same' syntax).\n",
      "    MyEcho: Echo back the given command. Use $ for quoting strings. Useful for demos.\n",
      "    randCol: Randomly selects Msub cols from an associative array.\n",
      "\n",
      "  Internal Functions (not user functions):\n",
      "    AssocCatStrFunc: Concatenates strings inside a matrix multiply.\n",
      "    Equallike: Compares the values of an associative array with a scalar.\n",
      "    Pluslike: Performs element wise binary functions on two associative arrays.\n",
      "    loadobj: Used to load associative array from a file.\n",
      "    spyTicks: Used to load associative array from a file.\n",
      "\n",
      "    randiTmp: DEPRECATED. Stub for randi if it isn't available.\n",
      "\n",
      "\n",
      "STRING LIST\n",
      "\n",
      "  User Functions:\n",
      "    NumStr: Counts the number of strings in a string list.\n",
      "\n",
      "    CatStr: Concatenates two string lists with a separator; inverse of SplitStr.\n",
      "    SplitStr: Uncats list of strings into two separate lists of strings; inverse of CatStr.\n",
      "    KronCatStr: Concatenates the pairwise permutations of two string lists with a separator.\n",
      "\n",
      "    Str2mat: Converts list of strings to char matrix; inverse of Mat2str.\n",
      "    Mat2str: Converts char matrix to a list of strings; inverse of Str2mat.\n",
      "    Text2word: Converts list of text strings to list of words. \n",
      "\n",
      "    CatTriple: Appends r, c, v and rr, cc, vv; assumes each pair has same type.\n",
      "    catFind: Appends triples from an associative array to another set of triples; assumes each pair has same type.\n"
     ]
    },
    {
     "name": "stdout",
     "output_type": "stream",
     "text": [
      "\n",
      "  Utility Functions:\n",
      "    StrSearch: Finds index location of one string inside another.\n",
      "    StrSepsame: Makes separators in two lists of strings the same.\n",
      "    StrSubind: Returns sub-strings i found in string list s.\n",
      "    StrSubsref: Returns index locations of one list of strings inside another.\n",
      "    StrUnique: Finds unique strings in string array and index mapping between input and output.\n",
      "\n",
      "    Mertonize: DEPRECATED. Interleave the values of two decimal strings.\n",
      "    MertonizeLatLon: DEPRECATED. Interleave the values of two decimal strings.\n",
      "\n",
      "  Internal Functions (not user functions):\n",
      "\n",
      "\n",
      "IO\n",
      "\n",
      "  User Functions:\n",
      "    StrLS: Returns list of files in a directory formatted as a string list.\n",
      "\n",
      "    Assoc2CSV: Writes an associative array to a CSV file.\n",
      "    Assoc2CSVstr: Converts an associative array to a CSV string.\n",
      "    Assoc2JSONCSV: Converts an associative array to a JSON formatted CSV string.\n",
      "    FindCSVsimple: Fast read of a CSV (or TSV) file into simple triples.\n",
      "    FindCSV: Reads a CSV (or TSV) file into triples.\n",
      "    ReadCSV: Reads a CSV (or TSV) file into an associative array.\n",
      "    ReadCSVfiles: Reads multiple CSV (or TSV) files into an associative array.\n",
      "    CSVstr2assoc: Converts a CSV formatted string to an associative array.\n",
      "    JSONCSV2assoc: Converts a CSV string stored inside a JSON data structure to an associative array.\n",
      "    parseJSON: Converts a JSON formatted string into a data structure.\n",
      "\n",
      "    genRmatData: Generates a graph using the R-MAT generator.\n",
      "\n",
      "  Utility Functions:\n",
      "    ParseFileCols: DEPRECATED. Parse a file into a sequence of cols. Can select subcolumns..\n",
      "\n",
      "  Internal Functions (not user functions):\n",
      "\n",
      "\n",
      "DATABASE\n",
      "\n",
      "  User Functions:\n",
      "    DBinit: Set up path for D4M binding to databases. \n",
      "    DBserver: Create DBserver object with a binding to a specific database.\n",
      "    display: Show the contents of a DBserver object and list its tables\n",
      "    ls: List tables in a DBserver object\n",
      "    put: Inserts data into a database table.\n",
      "    (),subsref: Create DBtable object binding to a specific database table; creates tables if they don't exist.\n",
      "    delete: Deletes table from a database; prompts user before proceeding.\n",
      "    deleteForce: Deletes a table from a database; does *not* prompt user before proceeding.\n",
      "\n",
      "  Utility Functions:\n",
      "\n",
      "  Internal Functions (not user functions):\n",
      "    DBtable: Create DBtable object binding to a specific database table.\n",
      "    DBtablePair: Create DBtable object binding to a specific database table pair.\n",
      "    DBaddJavaOps: Adds a java database operation.\n",
      "    DBcreate: Create a table on a specific database.\n",
      "    DBcreate: Delete a table on a specific database.\n",
      "    DBsqlConnect: Constructs a connector to an SQL database.\n",
      "    DBsetupLLGrid: Create database binding on LLGrid.\n",
      "    new: Creates a new table object based on an old table.\n",
      "\n",
      "\n",
      "\n",
      "DATABASE TABLE\n",
      "\n",
      "  User Functions:\n",
      "    Iterator: Creates a new iterator inside of a table and sets its limits.\n",
      "    addColCombiner: Sets which column names should have combiners.\n",
      "    ColCombiner: List the columns in the table with combiners.\n",
      "    deleteColCombiner: Deletes the combiners for specific column names.\n",
      "\n",
      "  Utility Functions:\n",
      "    close: Reset iterator in a table object.\n",
      "    putColumnFamily: Set the column family currently be used by a table.\n",
      "    ColumnFamily: Retrieve the column family currently be used by a table.\n",
      "    getName: Retrieve the name of the table.\n",
      "    putSecurity: Set the security label currently used by a table.\n",
      "    Security: Get the security label currently used by a table.\n",
      "    addSplits: Adds row splits to a table for better load balancing across multiple servers.\n",
      "    putSplits: Replaces all row splits in a table; used for better load balancing across multiple servers.\n",
      "    mergeSplits: \n",
      "    Splits: \n",
      "\n",
      "    InsertAssocFiles: Inserts Assoc array files into a database table.\n",
      "\n",
      "    TsqlCol: Returns column names in an SQL table.\n",
      "    TsqlSize: Returns size of an SQL table.\n",
      "\n",
      "    DBtableIndexRow: DEPRECATED. Create a numeric row index for a table and puts it into another table.\n",
      "    DBtableRandRow: DEPRECATED. Randomly selects rows from a table using a numeric index table.\n",
      "    WriteDBtableIndex: DEPRECATED. Uses and index table to write out a table.\n",
      "    IndexAssocFiles: DEPRECATED. Inserts Assoc array files into a table and creates a row index at the same time.\n",
      "\n",
      "    ExtendPair: DEPRECATED. Complex analytic for extending pairs of keys. \n",
      "    PairCheck: DEPRECATED. Checks if a set of string pairs is in a database table. \n",
      "\n",
      "  Internal Functions (not user functions):\n",
      "    DBinsert: Inserts triples into a database table.\n",
      "    NumLimit: Gets the maximum number of items to return from a single query.\n",
      "    putNumLimit: Set the maximum number of items to return from a single query.\n",
      "    putNumRow: STUB. Set the maximum number of rows to return from a single query.\n",
      "    PutBytes: Get the chunk size for table inserts used by the put function.\n",
      "    putPutBytes: Set the chunk size for table inserts used by the put function.\n",
      "\n",
      "    DBsubsrefFind: DEPRECATED. Queries triples from a database table using row and column keys.\n",
      "\n",
      "\n",
      "GRAPHULO\n",
      "\n",
      "  User functions:\n",
      "    AdjBFS: Out-degree-filtered Breadth First Search on Adjacency Assoc/DB.\n",
      "    EdgeBFS: Out-degree-filtered Breadth First Search on Incidence Assoc/DB.\n",
      "    Jaccard: Compute Jaccard coefficients in strict upper triangle of unweighted, undirected adjacency matrix.\n",
      "    kTrussAdj:  Compute k-Truss subgraph of Undirected, Unweighted Adjacency Assoc E.\n",
      "    kTrussEdge: Compute k-Truss subgraph of Undirected, Unweighted Incidence Assoc E.\n",
      "\n",
      "  Utility Functions:\n",
      "    Mat2Assoc: Convert matrix to Assoc with generated row and col labels.\n",
      "    Adj2Edge: Convert weighted, directed Adjacency Assoc to Incidence Assoc\n",
      "    EdgeList2Mat: Convert start and end vertex arrays into sparse incidence matrix. Eliminate self-edges and duplicate edges.\n",
      "    OutInRow2Adj: Convert Single-Table format Assoc to Adjacency Assoc.\n",
      "    Adj2OutInRow: Convert Adjacency Assoc to Single-Table format Assoc.\n",
      " \n",
      "\n",
      "SCIDB\n",
      "\n",
      "  User functions:\n",
      "    DBsetupSciDB : Helper function to setup new connection to a SciDB instance\n",
      "    subsref : Access volumetric data from 3D array using MATLAB style indexing\n",
      "    insert : Insert multiple source arrays into target array\n",
      "    merge : Merge multiple SciDB arrays\n",
      "\n",
      " D4M: Dynamic Distributed Dimensional Data Model\n",
      " Architect: Dr. Jeremy Kepner (kepner@ll.mit.edu)\n",
      " Software Engineer: Dr. Jeremy Kepner (kepner@ll.mit.edu)\n",
      " MIT Lincoln Laboratory\n",
      "\n",
      " (c) <2010> Massachusetts Institute of Technology\n",
      "\n",
      "\n",
      "\n",
      "Additional help for built-in functions and operators is\n",
      "available in the online version of the manual.  Use the command\n",
      "'doc <topic>' to search the manual index.\n",
      "\n",
      "Help and information about Octave is also available on the WWW\n",
      "at http://www.octave.org and via the help@octave.org\n",
      "mailing list.\n"
     ]
    }
   ],
   "source": [
    "%% Add D4M to Path\n",
    "addpath('../../matlab_src')\n",
    "\n",
    "help D4M"
   ]
  },
  {
   "cell_type": "markdown",
   "metadata": {},
   "source": [
    "## Create, Display, Save an Associative Array"
   ]
  },
  {
   "cell_type": "markdown",
   "metadata": {},
   "source": [
    "Create lists of row, column, and values substrings. Note: the last character in the string is the divider. It can be any character. Common choices are \",\", \" \", tab, and newline."
   ]
  },
  {
   "cell_type": "code",
   "execution_count": 2,
   "metadata": {
    "collapsed": true
   },
   "outputs": [],
   "source": [
    "row = 'a,a,a,a,a,a,a,aa,aaa,b,bb,bbb,a,aa,aaa,b,bb,bbb,';\n",
    "column = 'a,aa,aaa,b,bb,bbb,a,a,a,a,a,a,a,aa,aaa,b,bb,bbb,';\n",
    "values = 'a-a,a-aa,a-aaa,a-b,a-bb,a-bbb,a-a,aa-a,aaa-a,b-a,bb-a,bbb-a,a-a,aa-aa,aaa-aaa,b-b,bb-bb,bbb-bbb,';"
   ]
  },
  {
   "cell_type": "markdown",
   "metadata": {},
   "source": [
    "Create an associtavie array, A, from row, column, and values."
   ]
  },
  {
   "cell_type": "code",
   "execution_count": 3,
   "metadata": {
    "collapsed": true
   },
   "outputs": [],
   "source": [
    "A = Assoc(row,column,values);"
   ]
  },
  {
   "cell_type": "markdown",
   "metadata": {},
   "source": [
    "Display the associative array in tabular form."
   ]
  },
  {
   "cell_type": "code",
   "execution_count": 4,
   "metadata": {},
   "outputs": [
    {
     "name": "stdout",
     "output_type": "stream",
     "text": [
      "    a,    aa,   aaa,    b,  bb,   bbb,    \n",
      "a,  a-a,  a-aa, a-aaa,  a-b,a-bb, a-bbb,  \n",
      "aa, aa-a, aa-aa,                          \n",
      "aaa,aaa-a,      aaa-aaa,                  \n",
      "b,  b-a,                b-b,              \n",
      "bb, bb-a,                   bb-bb,        \n",
      "bbb,bbb-a,                        bbb-bbb,\n"
     ]
    }
   ],
   "source": [
    "displayFull(  A  );"
   ]
  },
  {
   "cell_type": "markdown",
   "metadata": {},
   "source": [
    "Convert values to 0 and 1."
   ]
  },
  {
   "cell_type": "code",
   "execution_count": 5,
   "metadata": {},
   "outputs": [
    {
     "name": "stdout",
     "output_type": "stream",
     "text": [
      "    a,aa,aaa,b,bb,bbb,\n",
      "a,  1,1, 1,  1,1, 1,  \n",
      "aa, 1,1,              \n",
      "aaa,1,   1,           \n",
      "b,  1,       1,       \n",
      "bb, 1,         1,     \n",
      "bbb,1,            1,  \n"
     ]
    }
   ],
   "source": [
    "displayFull(  Abs0(A)  );"
   ]
  },
  {
   "cell_type": "markdown",
   "metadata": {},
   "source": [
    "Save associative array to a CSV file."
   ]
  },
  {
   "cell_type": "code",
   "execution_count": 6,
   "metadata": {
    "collapsed": true
   },
   "outputs": [],
   "source": [
    "Assoc2CSV(A,char(10),',','data/A.csv');"
   ]
  },
  {
   "cell_type": "markdown",
   "metadata": {},
   "source": [
    "## Read and Select Sub Associative Arrays"
   ]
  },
  {
   "cell_type": "markdown",
   "metadata": {},
   "source": [
    "Read CSV file into an associative array."
   ]
  },
  {
   "cell_type": "code",
   "execution_count": 7,
   "metadata": {
    "collapsed": true
   },
   "outputs": [],
   "source": [
    "A = ReadCSV('data/A.csv');"
   ]
  },
  {
   "cell_type": "markdown",
   "metadata": {},
   "source": [
    "Select a subset of rows."
   ]
  },
  {
   "cell_type": "code",
   "execution_count": 8,
   "metadata": {},
   "outputs": [
    {
     "name": "stdout",
     "output_type": "stream",
     "text": [
      "  a,  aa,  aaa,  b,  bb,  bbb,  \n",
      "a,a-a,a-aa,a-aaa,a-b,a-bb,a-bbb,\n",
      "b,b-a,           b-b,           \n"
     ]
    }
   ],
   "source": [
    "displayFull(  A('a,b,',:)  );"
   ]
  },
  {
   "cell_type": "markdown",
   "metadata": {},
   "source": [
    "Convert values to 0 and 1."
   ]
  },
  {
   "cell_type": "code",
   "execution_count": 9,
   "metadata": {},
   "outputs": [
    {
     "name": "stdout",
     "output_type": "stream",
     "text": [
      "  a,aa,aaa,b,bb,bbb,\n",
      "a,1,1, 1,  1,1, 1,  \n",
      "b,1,       1,       \n"
     ]
    }
   ],
   "source": [
    "displayFull(  Abs0(A('a,b,',:))  );"
   ]
  },
  {
   "cell_type": "markdown",
   "metadata": {},
   "source": [
    "Select a subset of columns."
   ]
  },
  {
   "cell_type": "code",
   "execution_count": 10,
   "metadata": {},
   "outputs": [
    {
     "name": "stdout",
     "output_type": "stream",
     "text": [
      "    a,    b,  \n",
      "a,  a-a,  a-b,\n",
      "aa, aa-a,     \n",
      "aaa,aaa-a,    \n",
      "b,  b-a,  b-b,\n",
      "bb, bb-a,     \n",
      "bbb,bbb-a,    \n"
     ]
    }
   ],
   "source": [
    "displayFull(  A(:,'a,b,')  );"
   ]
  },
  {
   "cell_type": "markdown",
   "metadata": {},
   "source": [
    "Convert values to 0 and 1."
   ]
  },
  {
   "cell_type": "code",
   "execution_count": 11,
   "metadata": {},
   "outputs": [
    {
     "name": "stdout",
     "output_type": "stream",
     "text": [
      "    a,b,\n",
      "a,  1,1,\n",
      "aa, 1,  \n",
      "aaa,1,  \n",
      "b,  1,1,\n",
      "bb, 1,  \n",
      "bbb,1,  \n"
     ]
    }
   ],
   "source": [
    "displayFull(  Abs0(A(:,'a,b,'))  );"
   ]
  },
  {
   "cell_type": "markdown",
   "metadata": {},
   "source": [
    "# Analyze Entities in News Articles"
   ]
  },
  {
   "cell_type": "markdown",
   "metadata": {},
   "source": [
    "Load entities from 10,000 news articles and print the first few rows."
   ]
  },
  {
   "cell_type": "code",
   "execution_count": 12,
   "metadata": {},
   "outputs": [
    {
     "name": "stdout",
     "output_type": "stream",
     "text": [
      "      doc,                entity,     position,   type,    \n",
      "1,    19960825_13108.txt, addis ababa,54;132;974;,LOCATION,\n",
      "10,   19960821_6808.txt,  aden,       212;,       LOCATION,\n",
      "100,  19960902_27945.txt, africa,     730;1176;,  LOCATION,\n",
      "1000, 19961031_156588.txt,argentina,  1;12;419;,  LOCATION,\n",
      "10000,19961017_122599.txt,greensboro, 41;,        LOCATION,\n"
     ]
    }
   ],
   "source": [
    "A = ReadCSV('data/entity.csv');\n",
    "\n",
    "displayFull(  A(1:5,:)  );"
   ]
  },
  {
   "cell_type": "markdown",
   "metadata": {},
   "source": [
    "Show dimensions and number entries of A."
   ]
  },
  {
   "cell_type": "code",
   "execution_count": 3,
   "metadata": {},
   "outputs": [
    {
     "name": "stdout",
     "output_type": "stream",
     "text": [
      "    47089        4   188356\n"
     ]
    }
   ],
   "source": [
    "disp( [size(A),nnz(A)] );"
   ]
  },
  {
   "cell_type": "markdown",
   "metadata": {},
   "source": [
    "Plot transpose of the dense data."
   ]
  },
  {
   "cell_type": "code",
   "execution_count": 13,
   "metadata": {},
   "outputs": [
    {
     "data": {
      "image/png": "[encoded data removed]",
      "text/plain": [
       "<IPython.core.display.Image object>"
      ]
     },
     "metadata": {},
     "output_type": "display_data"
    }
   ],
   "source": [
    "spy(  transpose(A)  )"
   ]
  },
  {
   "cell_type": "markdown",
   "metadata": {},
   "source": [
    "## Construct and Display a Sparse Associative Array of the Data"
   ]
  },
  {
   "cell_type": "markdown",
   "metadata": {},
   "source": [
    "Grab doc, entity, position, and type columns and combine type and entity with '|' seperator."
   ]
  },
  {
   "cell_type": "code",
   "execution_count": 15,
   "metadata": {
    "collapsed": true
   },
   "outputs": [],
   "source": [
    "[row col doc]      = A(:,'doc,');              % Get doc column.\n",
    "[row col entity]   = A(:,'entity,');           % Get entity column.\n",
    "[row col position] = A(:,'position,');         % Get position column.\n",
    "[row col type]     = A(:,'type,');             % Get type column.\n",
    "typeEntity = CatStr(type,'|',entity);          % Interleave type and entity strings."
   ]
  },
  {
   "cell_type": "markdown",
   "metadata": {},
   "source": [
    "Create a sparse associative array of all the data and plot a few row."
   ]
  },
  {
   "cell_type": "code",
   "execution_count": 16,
   "metadata": {
    "collapsed": true
   },
   "outputs": [],
   "source": [
    "E = Assoc(doc,typeEntity,position);"
   ]
  },
  {
   "cell_type": "code",
   "execution_count": 17,
   "metadata": {},
   "outputs": [
    {
     "name": "stdout",
     "output_type": "stream",
     "text": [
      "    9974    3657   47089\n"
     ]
    }
   ],
   "source": [
    "disp( [size(E), nnz(E)]  );"
   ]
  },
  {
   "cell_type": "markdown",
   "metadata": {},
   "source": [
    "Plot transpose of the sparse data."
   ]
  },
  {
   "cell_type": "code",
   "execution_count": 18,
   "metadata": {},
   "outputs": [
    {
     "name": "stdout",
     "output_type": "stream",
     "text": [
      "ans =  47089\n"
     ]
    },
    {
     "data": {
      "image/png": "[encoded data removed]",
      "text/plain": [
       "<IPython.core.display.Image object>"
      ]
     },
     "metadata": {},
     "output_type": "display_data"
    }
   ],
   "source": [
    "spy(  transpose(E)  );\n",
    "\n",
    "nnz(E)"
   ]
  },
  {
   "cell_type": "markdown",
   "metadata": {},
   "source": [
    "## Analyze Relationships"
   ]
  },
  {
   "cell_type": "markdown",
   "metadata": {},
   "source": [
    "Define relationships to examine."
   ]
  },
  {
   "cell_type": "code",
   "execution_count": 9,
   "metadata": {
    "collapsed": true
   },
   "outputs": [],
   "source": [
    "p = 'PERSON|michael chang,';\n",
    "P = StartsWith('PERSON|,');\n",
    "L = StartsWith('LOCATION|,');"
   ]
  },
  {
   "cell_type": "markdown",
   "metadata": {},
   "source": [
    "Show all people mentioned in news articles with \"p\"."
   ]
  },
  {
   "cell_type": "code",
   "execution_count": 10,
   "metadata": {},
   "outputs": [
    {
     "name": "stdout",
     "output_type": "stream",
     "text": [
      "pFriend = PERSON|alex obrien,PERSON|amy frazier,PERSON|ann hobbs,PERSON|byron black,PERSON|javier sanchez,PERSON|jonathan stark,PERSON|lindsay davenport,PERSON|mary joe fernandez,PERSON|michael chang,PERSON|michael joyce,PERSON|todd martin,PERSON|virginia wade,\n"
     ]
    }
   ],
   "source": [
    "pFriend = Col(E(Row(E(:,p)),P))"
   ]
  },
  {
   "cell_type": "markdown",
   "metadata": {},
   "source": [
    "Show the most common locations associated with the friends of \"p\"."
   ]
  },
  {
   "cell_type": "code",
   "execution_count": 14,
   "metadata": {},
   "outputs": [
    {
     "name": "stdout",
     "output_type": "stream",
     "text": [
      "(1,LOCATION|argentina,)     1\n",
      "(1,LOCATION|canada,)     1\n",
      "(1,LOCATION|chile,)     3\n",
      "(1,LOCATION|denmark,)     1\n",
      "(1,LOCATION|ecuador,)     1\n",
      "(1,LOCATION|france,)     4\n",
      "(1,LOCATION|italy,)     1\n",
      "(1,LOCATION|madagascar,)     1\n",
      "(1,LOCATION|monaco,)     2\n",
      "(1,LOCATION|netherlands,)     3\n",
      "(1,LOCATION|norway,)     1\n",
      "(1,LOCATION|paris,)     1\n",
      "(1,LOCATION|singapore,)     2\n",
      "(1,LOCATION|toronto,)     1\n",
      "(1,LOCATION|ukraine,)     3\n",
      "(1,LOCATION|virginia,)     3\n",
      "(1,LOCATION|washington,)     1\n"
     ]
    }
   ],
   "source": [
    "sum(  E(:,pFriend).' * E(:,L)  ,1) <5"
   ]
  },
  {
   "cell_type": "markdown",
   "metadata": {},
   "source": [
    "Do it all in 1 line of code."
   ]
  },
  {
   "cell_type": "code",
   "execution_count": 22,
   "metadata": {},
   "outputs": [
    {
     "name": "stdout",
     "output_type": "stream",
     "text": [
      "(1,LOCATION|croatia,)     19\n",
      "(1,LOCATION|germany,)     16\n",
      "(1,LOCATION|spain,)     23\n",
      "(1,LOCATION|united states,)     22\n"
     ]
    }
   ],
   "source": [
    "sum(  E(:,Col(E(Row(E(:,p)),P))).' * E(:,L)  ,1) > 15"
   ]
  },
  {
   "cell_type": "markdown",
   "metadata": {},
   "source": [
    "Scale to multiple people at once."
   ]
  },
  {
   "cell_type": "code",
   "execution_count": 23,
   "metadata": {},
   "outputs": [
    {
     "name": "stdout",
     "output_type": "stream",
     "text": [
      "(1,LOCATION|britain,)     19\n",
      "(1,LOCATION|croatia,)     19\n",
      "(1,LOCATION|germany,)     19\n",
      "(1,LOCATION|new york,)     21\n",
      "(1,LOCATION|spain,)     23\n",
      "(1,LOCATION|united states,)     29\n"
     ]
    }
   ],
   "source": [
    "p = 'PERSON|michael chang,PERSON|don king,PERSON|james joyce,';\n",
    "sum(  E(:,Col(E(Row(E(:,p)),P))).' * E(:,L)  ,1) > 15"
   ]
  },
  {
   "cell_type": "markdown",
   "metadata": {},
   "source": [
    "# Analyze DNA Data"
   ]
  },
  {
   "cell_type": "markdown",
   "metadata": {},
   "source": [
    "Read in bacteria reference DNA and palm sample DNA data into an associative arrays."
   ]
  },
  {
   "cell_type": "code",
   "execution_count": 24,
   "metadata": {
    "collapsed": true
   },
   "outputs": [],
   "source": [
    "DNAwordsize = 10;\n",
    "Eref = SplitSequenceCSV('data/bacteria.csv',DNAwordsize);\n",
    "Esamp = SplitSequenceCSV('data/palm.csv',DNAwordsize);"
   ]
  },
  {
   "cell_type": "markdown",
   "metadata": {},
   "source": [
    "Perform BLAST DNA sequeance analysis in 1 line of code to find best bacteria match."
   ]
  },
  {
   "cell_type": "code",
   "execution_count": 25,
   "metadata": {},
   "outputs": [
    {
     "name": "stdout",
     "output_type": "stream",
     "text": [
      "(AB002518.1_1-1416,,1)     22\n",
      "(AB002522.1_1-1416,,1)     22\n",
      "(AB002523.1_1-1496,,1)     22\n",
      "(AB002525.1_1-1457,,1)     22\n",
      "(AB002639.1_1-1384,,1)     309\n",
      "(AB003189.1_1-1515,,1)     27\n",
      "(AB003386.1_1-1427,,1)     29\n",
      "(AB003388.1_1-1373,,1)     29\n"
     ]
    }
   ],
   "source": [
    "sum( Eref * Esamp.' ,2) > 20"
   ]
  },
  {
   "cell_type": "markdown",
   "metadata": {},
   "source": [
    "# Analyze Network Data"
   ]
  },
  {
   "cell_type": "markdown",
   "metadata": {},
   "source": [
    "Read in 80,000 simulated network traffic logs from 1 day and print the first few rows."
   ]
  },
  {
   "cell_type": "code",
   "execution_count": 6,
   "metadata": {},
   "outputs": [
    {
     "name": "stdout",
     "output_type": "stream",
     "text": [
      "      dest,           src,           time,    \n",
      "1,    126.209.158.242,139.143.28.239,09:14:48,\n",
      "10,   168.45.199.53,  233.109.159.60,14:21:01,\n",
      "100,  140.237.216.204,89.232.134.186,07:56:27,\n",
      "1000, 250.100.174.193,96.211.41.46,  23:35:01,\n",
      "10000,45.240.76.78,   164.40.220.138,14:51:57,\n"
     ]
    }
   ],
   "source": [
    "A = ReadCSV('data/network.csv');\n",
    "\n",
    "displayFull(  A(1:5,:)  );"
   ]
  },
  {
   "cell_type": "markdown",
   "metadata": {},
   "source": [
    "Make data sparse and show dimensions and number of entries."
   ]
  },
  {
   "cell_type": "code",
   "execution_count": 7,
   "metadata": {},
   "outputs": [
    {
     "name": "stdout",
     "output_type": "stream",
     "text": [
      "    84078    90170   252234\n"
     ]
    }
   ],
   "source": [
    "E = val2col(A,'|');\n",
    "\n",
    "disp( [size(E),nnz(E)] )"
   ]
  },
  {
   "cell_type": "markdown",
   "metadata": {},
   "source": [
    "Select fields and time windows to explore."
   ]
  },
  {
   "cell_type": "code",
   "execution_count": 8,
   "metadata": {
    "collapsed": true
   },
   "outputs": [],
   "source": [
    "S = StartsWith('src|,');         T1 = StartsWith('time|01:,');\n",
    "D = StartsWith('dest|,');        T2 = StartsWith('time|05:,');\n",
    "\n",
    "E1 = E(Row(E(:,T1)),:);          % Data from time window 1.\n",
    "E2 = E(Row(E(:,T2)),:);          % Data from time winod 2."
   ]
  },
  {
   "cell_type": "markdown",
   "metadata": {},
   "source": [
    "Create adjacency array of network traffic in each time window."
   ]
  },
  {
   "cell_type": "code",
   "execution_count": 9,
   "metadata": {
    "collapsed": true
   },
   "outputs": [],
   "source": [
    "A1 = E1(:,S).' * E1(:,D);\n",
    "A2 = E2(:,S).' * E2(:,D);"
   ]
  },
  {
   "cell_type": "markdown",
   "metadata": {},
   "source": [
    "Find source/destination pairs that are common to both time windows."
   ]
  },
  {
   "cell_type": "code",
   "execution_count": 10,
   "metadata": {},
   "outputs": [
    {
     "name": "stdout",
     "output_type": "stream",
     "text": [
      "(src|255.185.129.139,,dest|154.229.44.255,)     1\n",
      "(src|37.83.177.240,,dest|166.35.18.237,)     1\n",
      "(src|170.228.83.128,,dest|17.229.56.231,)     1\n",
      "(src|37.83.177.240,,dest|212.222.89.137,)     1\n",
      "(src|148.216.161.224,,dest|228.176.163.152,)     1\n",
      "(src|37.83.177.240,,dest|231.100.65.139,)     1\n",
      "(src|255.185.129.139,,dest|236.67.214.2,)     1\n",
      "(src|73.223.154.81,,dest|29.153.177.89,)     1\n",
      "(src|170.228.83.128,,dest|30.130.66.174,)     1\n",
      "(src|117.46.146.238,,dest|45.240.76.78,)     2\n",
      "(src|8.207.64.17,,dest|50.61.226.45,)     1\n",
      "(src|170.228.83.128,,dest|98.198.16.104,)     1\n"
     ]
    }
   ],
   "source": [
    "A1 .* A2"
   ]
  },
  {
   "cell_type": "code",
   "execution_count": null,
   "metadata": {
    "collapsed": true
   },
   "outputs": [],
   "source": []
  }
 ],
 "metadata": {
  "kernelspec": {
   "display_name": "Octave",
   "language": "octave",
   "name": "octave"
  },
  "language_info": {
   "file_extension": ".m",
   "help_links": [
    {
     "text": "GNU Octave",
     "url": "https://www.gnu.org/software/octave/support.html"
    },
    {
     "text": "Octave Kernel",
     "url": "https://github.com/Calysto/octave_kernel"
    },
    {
     "text": "MetaKernel Magics",
     "url": "https://github.com/calysto/metakernel/blob/master/metakernel/magics/README.md"
    }
   ],
   "mimetype": "text/x-octave",
   "name": "octave",
   "version": "4.0.3"
  },
  "latex_envs": {
   "LaTeX_envs_menu_present": true,
   "autocomplete": true,
   "bibliofile": "biblio.bib",
   "cite_by": "apalike",
   "current_citInitial": 1,
   "eqLabelWithNumbers": true,
   "eqNumInitial": 1,
   "hotkeys": {
    "equation": "Ctrl-E",
    "itemize": "Ctrl-I"
   },
   "labels_anchors": false,
   "latex_user_defs": false,
   "report_style_numbering": false,
   "user_envs_cfg": false
  },
  "toc": {
   "nav_menu": {},
   "number_sections": true,
   "sideBar": true,
   "skip_h1_title": false,
   "title_cell": "Table of Contents",
   "title_sidebar": "Contents",
   "toc_cell": false,
   "toc_position": {},
   "toc_section_display": "block",
   "toc_window_display": false
  },
  "varInspector": {
   "cols": {
    "lenName": 16,
    "lenType": 16,
    "lenVar": 40
   },
   "kernels_config": {
    "python": {
     "delete_cmd_postfix": "",
     "delete_cmd_prefix": "del ",
     "library": "var_list.py",
     "varRefreshCmd": "print(var_dic_list())"
    },
    "r": {
     "delete_cmd_postfix": ") ",
     "delete_cmd_prefix": "rm(",
     "library": "var_list.r",
     "varRefreshCmd": "cat(var_dic_list()) "
    }
   },
   "types_to_exclude": [
    "module",
    "function",
    "builtin_function_or_method",
    "instance",
    "_Feature"
   ],
   "window_display": false
  }
 },
 "nbformat": 4,
 "nbformat_minor": 2
}
